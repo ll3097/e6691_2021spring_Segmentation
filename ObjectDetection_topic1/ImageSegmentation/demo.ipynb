{
 "cells": [
  {
   "cell_type": "code",
   "execution_count": 2,
   "metadata": {},
   "outputs": [
    {
     "name": "stdout",
     "output_type": "stream",
     "text": [
      "/Users/Leo/PycharmProjects/DeepLearning/ObjectDetection/ImageSegmentation\n"
     ]
    }
   ],
   "source": [
    "import os\n",
    "from IPython.display import HTML"
   ]
  },
  {
   "cell_type": "code",
   "execution_count": null,
   "metadata": {},
   "outputs": [],
   "source": [
    "cwd = os.getcwd()\n",
    "print(cwd)"
   ]
  },
  {
   "cell_type": "code",
   "execution_count": 39,
   "metadata": {},
   "outputs": [],
   "source": [
    "images = ['paris', 'BigTree', 'bridge']\n",
    "ks = [100, 500, 1000]\n",
    "output_root = 'gif'\n",
    "\n",
    "paths = [[os.path.join(output_root, img + '_k' + str(k) + '.gif') for k in ks] for img in images]"
   ]
  },
  {
   "cell_type": "code",
   "execution_count": 40,
   "metadata": {},
   "outputs": [
    {
     "data": {
      "text/html": [
       "<img src=\"gif/paris_k500.gif\">"
      ],
      "text/plain": [
       "<IPython.core.display.HTML object>"
      ]
     },
     "execution_count": 40,
     "metadata": {},
     "output_type": "execute_result"
    }
   ],
   "source": [
    "HTML(\"\"\"<img src=\"%s\">\"\"\" % paths[0][1])"
   ]
  },
  {
   "cell_type": "code",
   "execution_count": 38,
   "metadata": {},
   "outputs": [
    {
     "data": {
      "text/html": [
       "\n",
       "<style>\n",
       "* {\n",
       "  box-sizing: border-box;\n",
       "}\n",
       "\n",
       ".column {\n",
       "  float: left;\n",
       "  width: 33.33%;\n",
       "  padding: 2px;\n",
       "}\n",
       "\n",
       "/* Clearfix (clear floats) */\n",
       ".row::after {\n",
       "  content: \"\";\n",
       "  clear: both;\n",
       "  display: table;\n",
       "}\n",
       "</style>\n",
       "<div class=\"row\"><div class=\"column\"> <img src=\"gif/paris_k100.gif\"> </div><div class=\"column\"> <img src=\"gif/paris_k500.gif\"> </div><div class=\"column\"> <img src=\"gif/paris_k1000.gif\"> </div></div><div class=\"row\"><div class=\"column\"> <img src=\"gif/BigTree_k100.gif\"> </div><div class=\"column\"> <img src=\"gif/BigTree_k500.gif\"> </div><div class=\"column\"> <img src=\"gif/BigTree_k1000.gif\"> </div></div><div class=\"row\"><div class=\"column\"> <img src=\"gif/bridge_k100.gif\"> </div><div class=\"column\"> <img src=\"gif/bridge_k500.gif\"> </div><div class=\"column\"> <img src=\"gif/bridge_k1000.gif\"> </div></div>"
      ],
      "text/plain": [
       "<IPython.core.display.HTML object>"
      ]
     },
     "execution_count": 38,
     "metadata": {},
     "output_type": "execute_result"
    }
   ],
   "source": [
    "html_style = \"\"\"\n",
    "<style>\n",
    "* {\n",
    "  box-sizing: border-box;\n",
    "}\n",
    "\n",
    ".column {\n",
    "  float: left;\n",
    "  width: 33.33%;\n",
    "  padding: 2px;\n",
    "}\n",
    "\n",
    "/* Clearfix (clear floats) */\n",
    ".row::after {\n",
    "  content: \"\";\n",
    "  clear: both;\n",
    "  display: table;\n",
    "}\n",
    "</style>\n",
    "\"\"\"\n",
    "\n",
    "html_code = \"\"\"\"\"\"\n",
    "\n",
    "for row in paths:\n",
    "    html_code += \"\"\"<div class=\"row\">\"\"\"\n",
    "    for item in row:\n",
    "        html_code += \"\"\"<div class=\"column\"> <img src=\"%s\"> </div>\"\"\" % item\n",
    "    html_code += \"\"\"</div>\"\"\"\n",
    "\n",
    "HTML(html_style + html_code)    "
   ]
  }
 ],
 "metadata": {
  "kernelspec": {
   "display_name": "Python 3",
   "language": "python",
   "name": "python3"
  },
  "language_info": {
   "codemirror_mode": {
    "name": "ipython",
    "version": 3
   },
   "file_extension": ".py",
   "mimetype": "text/x-python",
   "name": "python",
   "nbconvert_exporter": "python",
   "pygments_lexer": "ipython3",
   "version": "3.8.0"
  }
 },
 "nbformat": 4,
 "nbformat_minor": 1
}
